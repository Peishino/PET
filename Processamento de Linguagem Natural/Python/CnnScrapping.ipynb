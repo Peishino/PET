{
 "cells": [
  {
   "cell_type": "markdown",
   "metadata": {},
   "source": [
    "Pacotes"
   ]
  },
  {
   "cell_type": "code",
   "execution_count": null,
   "metadata": {},
   "outputs": [],
   "source": [
    "import pandas as pd \n",
    "from bs4 import BeautifulSoup \n",
    "import requests \n",
    "import re "
   ]
  },
  {
   "cell_type": "markdown",
   "metadata": {},
   "source": [
    "Saúde"
   ]
  },
  {
   "cell_type": "code",
   "execution_count": null,
   "metadata": {},
   "outputs": [],
   "source": [
    "headers = {\n",
    "    \"User-Agent\": \"Mozilla/5.0 (Windows NT 10.0; Win64; x64) AppleWebKit/537.36 (KHTML, like Gecko) Chrome/58.0.3029.110 Safari/537.36\"\n",
    "}\n",
    "urlhealth = \"https://edition.cnn.com/health\"\n",
    "response = requests.get(urlhealth, headers=headers)\n",
    "html = response.text\n",
    "soup = BeautifulSoup(html, 'html.parser')\n",
    "\n",
    "links = soup.select('a')\n",
    "links = [link.get('href') for link in links]\n",
    "\n",
    "filtered_links = [link for link in links if link and re.match(r'^/\\d+', link) is not None] # pegando a continuação dos links\n",
    "filtered_links = set(filtered_links)\n",
    "urlmain = \"https://edition.cnn.com\"\n",
    "\n",
    "saude = []\n",
    "for link in filtered_links:\n",
    "    newurl = urlmain + link # concatenando os links\n",
    "    responsenew = requests.get(newurl, headers=headers) #acessando o link criado\n",
    "    htmlnew = responsenew.text\n",
    "    soupnew = BeautifulSoup(htmlnew, 'html.parser')\n",
    "    titulo = soupnew.select_one('.headline__text')\n",
    "    titulo = titulo.text.strip()\n",
    "    autor_element= soupnew.select_one('.byline__name')\n",
    "    autor = autor_element.text if autor_element else \"Não identificado\"\n",
    "    categoria = re.search(r'/\\d+/\\d+/\\d+/(\\w+)',link)\n",
    "    categoria = categoria.group(1)\n",
    "    saude.append([titulo,autor,categoria])\n",
    "saude = pd.DataFrame(saude, columns=[\"Titulo\",\"Autor\",\"Categoria\"])\n",
    "saude"
   ]
  },
  {
   "cell_type": "code",
   "execution_count": null,
   "metadata": {},
   "outputs": [],
   "source": [
    "responsemain = requests.get(urlmain, headers=headers)\n",
    "htmlmain = responsemain.text\n",
    "soupmain = BeautifulSoup(htmlmain, 'html.parser')\n",
    "categoriaslinks = soupmain.select(\"#pageHeader div div div.header__subnav div nav.subnav ul li:nth-child(1) a\")\n",
    "categoriaslinks = [categoria.get(\"href\") for categoria in categoriaslinks]\n",
    "\n",
    "noticias = []\n",
    "\n",
    "for link in categoriaslinks:\n",
    "    responsecat = requests.get(link, headers=headers)\n",
    "    htmlcat = responsecat.text\n",
    "    soupcat = BeautifulSoup(htmlcat, 'html.parser')\n",
    "\n",
    "    linksnoticias = soupcat.select(\"a\")\n",
    "    linksnoticias = [linksn.get(\"href\") for linksn in linksnoticias]\n",
    "    filtered_linksnoticias = [linkn for linkn in linksnoticias if linkn and re.match(r'^/\\d+', linkn) is not None]\n",
    "    filtered_linksnoticias = set(filtered_linksnoticias)\n",
    "\n",
    "    for linkfiltrado in filtered_linksnoticias:\n",
    "        urlnoticias = urlmain + linkfiltrado\n",
    "        responsenoticias = requests.get(urlnoticias, headers=headers)\n",
    "        htmlnoticias = responsenoticias.text\n",
    "        soupnoticias = BeautifulSoup(htmlnoticias, 'html.parser')\n",
    "\n",
    "        titulonoticias = soupnoticias.select_one('.headline__text')\n",
    "        if titulonoticias:\n",
    "            titulonoticias = titulonoticias.text.strip()\n",
    "        else:\n",
    "            titulonoticias = \"Não identificado\"\n",
    "        autor_elementnoticias= soupnoticias.select_one('.byline__name')\n",
    "        autornoticias = autor_elementnoticias.text if autor_elementnoticias else \"Não identificado\"\n",
    "        categorianoticias = re.search(r'/\\d+/\\d+/\\d+/(\\w+)',linkfiltrado)\n",
    "        categorianoticias = categorianoticias.group(1)\n",
    "        noticias.append([titulonoticias,autornoticias,categorianoticias])\n",
    "\n",
    "noticias = pd.DataFrame(noticias, columns=[\"Titulo\",\"Autor\",\"Categoria\"])\n",
    "noticias = noticias.drop_duplicates()\n",
    "noticias"
   ]
  }
 ],
 "metadata": {
  "kernelspec": {
   "display_name": "Python 3",
   "language": "python",
   "name": "python3"
  },
  "language_info": {
   "codemirror_mode": {
    "name": "ipython",
    "version": 3
   },
   "file_extension": ".py",
   "mimetype": "text/x-python",
   "name": "python",
   "nbconvert_exporter": "python",
   "pygments_lexer": "ipython3",
   "version": "3.11.4"
  }
 },
 "nbformat": 4,
 "nbformat_minor": 2
}
