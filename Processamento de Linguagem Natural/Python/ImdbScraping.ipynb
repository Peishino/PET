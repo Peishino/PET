{
 "cells": [
  {
   "cell_type": "markdown",
   "metadata": {},
   "source": [
    "Instalando Pacotes"
   ]
  },
  {
   "cell_type": "code",
   "execution_count": null,
   "metadata": {},
   "outputs": [],
   "source": [
    "!pip install beautifulsoup4\n",
    "!pip install requests\n",
    "!pip install pandas"
   ]
  },
  {
   "cell_type": "markdown",
   "metadata": {},
   "source": [
    "Fazendo a Raspagem dos dados"
   ]
  },
  {
   "cell_type": "code",
   "execution_count": 43,
   "metadata": {},
   "outputs": [
    {
     "name": "stdout",
     "output_type": "stream",
     "text": [
      "                          Nome do Filme\n",
      "0              1. Um Sonho de Liberdade\n",
      "1                  2. O Poderoso Chefão\n",
      "2    3. Batman - O Cavaleiro das Trevas\n",
      "3               4. O Poderoso Chefão II\n",
      "4           5. 12 Homens e uma Sentença\n",
      "..                                  ...\n",
      "245             246. Os Incompreendidos\n",
      "246     247. Quando Duas Mulheres Pecam\n",
      "247                248. A Vida de Brian\n",
      "248                        249. Aladdin\n",
      "249                250. Dança com Lobos\n",
      "\n",
      "[250 rows x 1 columns]\n"
     ]
    }
   ],
   "source": [
    "import pandas as pd\n",
    "from bs4 import BeautifulSoup\n",
    "import requests\n",
    "\n",
    "url = \"https://www.imdb.com/\"\n",
    "\n",
    "# Precisamos desse Headers para que o site aceita a solicitação\n",
    "headers = {\n",
    "    \"User-Agent\": \"Mozilla/5.0 (Windows NT 10.0; Win64; x64) AppleWebKit/537.36 (KHTML, like Gecko) Chrome/58.0.3029.110 Safari/537.36\"\n",
    "}\n",
    "\n",
    "# Solicitando para obter o conteúdo da página\n",
    "response = requests.get(url, headers=headers)\n",
    "html = response.text\n",
    "soup = BeautifulSoup(html, 'html.parser')\n",
    "\n",
    "top250 = soup.find('ul', class_='ipc-list navlinkcat__list ipc-list--baseAlt')\n",
    "top250 = top250.find_all('a')[1]\n",
    "top250 = \"https://www.imdb.com/\" + top250.get('href')\n",
    "\n",
    "# Agora podemos acessar o link que geramos acima da mesma forma que acessamos o outro:\n",
    "response = requests.get(top250, headers=headers)\n",
    "html = response.text\n",
    "soup = BeautifulSoup(html, 'html.parser')\n",
    "\n",
    "# Quero selecionar todos os nomes dos filmes\n",
    "top250_movies = [h3.text for h3 in soup.select('ul h3')]\n",
    "\n",
    "\n",
    "df = pd.DataFrame({'Nome do Filme': top250_movies})\n",
    "print(df)"
   ]
  }
 ],
 "metadata": {
  "kernelspec": {
   "display_name": "Python 3",
   "language": "python",
   "name": "python3"
  },
  "language_info": {
   "codemirror_mode": {
    "name": "ipython",
    "version": 3
   },
   "file_extension": ".py",
   "mimetype": "text/x-python",
   "name": "python",
   "nbconvert_exporter": "python",
   "pygments_lexer": "ipython3",
   "version": "3.11.4"
  }
 },
 "nbformat": 4,
 "nbformat_minor": 2
}
