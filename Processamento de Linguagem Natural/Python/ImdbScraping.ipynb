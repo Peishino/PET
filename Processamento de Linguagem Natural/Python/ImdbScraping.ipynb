{
 "cells": [
  {
   "cell_type": "markdown",
   "metadata": {},
   "source": [
    "Instalando Pacotes"
   ]
  },
  {
   "cell_type": "code",
   "execution_count": null,
   "metadata": {},
   "outputs": [],
   "source": [
    "!pip install beautifulsoup4\n",
    "!pip install requests\n",
    "!pip install pandas"
   ]
  },
  {
   "cell_type": "markdown",
   "metadata": {},
   "source": [
    "Fazendo a Raspagem dos dados"
   ]
  },
  {
   "cell_type": "code",
   "execution_count": null,
   "metadata": {},
   "outputs": [],
   "source": [
    "# Top 250 filmes Imdb\n",
    "import pandas as pd # pacote para manipulação de dados\n",
    "from bs4 import BeautifulSoup # pacote para raspagem de dados\n",
    "import requests # pacote para fazer pedido de entrada no site\n",
    "import re # pacote para expressão regular\n",
    "\n",
    "url = \"https://www.imdb.com/\"\n",
    "\n",
    "# Precisamos desse Headers para que o site aceita a solicitação\n",
    "headers = {\n",
    "    \"User-Agent\": \"Mozilla/5.0 (Windows NT 10.0; Win64; x64) AppleWebKit/537.36 (KHTML, like Gecko) Chrome/58.0.3029.110 Safari/537.36\"\n",
    "}\n",
    "\n",
    "# Solicitando para obter o conteúdo da página\n",
    "response = requests.get(url, headers=headers)\n",
    "html = response.text\n",
    "soup = BeautifulSoup(html, 'html.parser')\n",
    "\n",
    "top250 = soup.find('ul', class_='ipc-list navlinkcat__list ipc-list--baseAlt')\n",
    "top250 = top250.select('a')[1]\n",
    "top250 = \"https://www.imdb.com/\" + top250.get('href')\n",
    "\n",
    "# Agora podemos acessar o link que geramos acima da mesma forma que acessamos o outro:\n",
    "response = requests.get(top250, headers=headers)\n",
    "html = response.text\n",
    "soup = BeautifulSoup(html, 'html.parser')\n",
    "\n",
    "# Quero selecionar todos os nomes dos filmes\n",
    "top250_movies = [h3.text for h3 in soup.select('ul h3')]\n",
    "\n",
    "# expressão regular para remover os números e pontos no início dos títulos\n",
    "top250_movies = [re.sub(r'^\\d+\\.\\s*', '', movie) for movie in top250_movies] # note que no python não precisamos escapar a \\\n",
    "\n",
    "df = pd.DataFrame({'Nome do Filme': top250_movies})\n",
    "# aqui ja teriamos os 250 filmes, mas vamos pegar mais informações\n",
    "\n",
    "# extração do ano, duração, idade permitida\n",
    "metadata = [item.text for item in soup.select('ul .cli-title-metadata-item')] # da pra selecionar a classe assim tambem\n",
    "\n",
    "# avaliações\n",
    "rating = [item.text for item in soup.select('ul .ratingGroup--imdb-rating')]\n",
    "rating = [re.sub(r'\\([^)]*\\)', '', r) for r in rating]\n",
    "\n",
    "# colocando todas as informações no dataframe\n",
    "df = pd.DataFrame({'Filme': top250_movies, 'Avaliação': rating})\n",
    "df['Ano'] = metadata[::3]\n",
    "df['Duracao'] = metadata[1::3]\n",
    "df['IdadePermitida'] = metadata[2::3]\n",
    "\n",
    "# Conversor de duração para minutos\n",
    "def duration_to_minutes(duration):\n",
    "    match = re.search(r'(\\d+)h?', duration)\n",
    "    hours = int(match.group(1)) if match else 0\n",
    "    match = re.search(r'(\\d+)min', duration)\n",
    "    minutes = int(match.group(1)) if match else 0\n",
    "    return hours * 60 + minutes\n",
    "\n",
    "df['Duracao'] = df['Duracao'].apply(duration_to_minutes)\n",
    "\n",
    "print(df)"
   ]
  }
 ],
 "metadata": {
  "kernelspec": {
   "display_name": "Python 3",
   "language": "python",
   "name": "python3"
  },
  "language_info": {
   "codemirror_mode": {
    "name": "ipython",
    "version": 3
   },
   "file_extension": ".py",
   "mimetype": "text/x-python",
   "name": "python",
   "nbconvert_exporter": "python",
   "pygments_lexer": "ipython3",
   "version": "3.11.4"
  }
 },
 "nbformat": 4,
 "nbformat_minor": 2
}
