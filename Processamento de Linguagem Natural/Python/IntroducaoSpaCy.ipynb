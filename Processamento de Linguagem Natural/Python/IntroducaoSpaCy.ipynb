{
 "cells": [
  {
   "cell_type": "markdown",
   "metadata": {},
   "source": [
    "Biblioteca spaCy\n"
   ]
  },
  {
   "cell_type": "code",
   "execution_count": null,
   "metadata": {},
   "outputs": [],
   "source": [
    "%pip install spacy"
   ]
  },
  {
   "cell_type": "code",
   "execution_count": null,
   "metadata": {},
   "outputs": [],
   "source": [
    "from spacy import blank\n",
    "nlp = blank('pt') #modelo vazio\n",
    "doc = nlp('Brunão roubou pão na casa do João')\n",
    "# palavras = tokens\n",
    "token = doc[2]\n",
    "print(token)"
   ]
  },
  {
   "cell_type": "code",
   "execution_count": null,
   "metadata": {},
   "outputs": [],
   "source": [
    "# span = conjunto de tokens\n",
    "span = doc[0:3]\n",
    "print(span)"
   ]
  },
  {
   "cell_type": "markdown",
   "metadata": {},
   "source": [
    "Tipos de modelos :\n",
    "\n",
    "python -m spacy download pt_core_news_sm (esse é o modelo small)\n",
    "\n",
    "python -m spacy download pt_core_news_md (modelo medio)\n",
    "\n",
    "python -m spacy download pt_core_news_lg (modelo large)\n"
   ]
  },
  {
   "cell_type": "code",
   "execution_count": null,
   "metadata": {},
   "outputs": [],
   "source": [
    "!python -m spacy download pt_core_news_lg"
   ]
  },
  {
   "cell_type": "code",
   "execution_count": null,
   "metadata": {},
   "outputs": [],
   "source": [
    "from spacy import load\n",
    "\n",
    "\n",
    "nlp = load('pt_core_news_lg')\n",
    "\n",
    "doc = nlp(\"Hoje eu não quero ir para a aula. Vou ir\")\n",
    "# sentenças = sent\n",
    "for sent in doc.sents:\n",
    "    print(sent)"
   ]
  },
  {
   "cell_type": "markdown",
   "metadata": {},
   "source": [
    "Listando tokens"
   ]
  },
  {
   "cell_type": "code",
   "execution_count": null,
   "metadata": {},
   "outputs": [],
   "source": [
    "tokens = [token for token in doc]\n",
    "tokens = list(doc)\n",
    "tokens"
   ]
  },
  {
   "cell_type": "markdown",
   "metadata": {},
   "source": [
    "Aributos das palavras/tokens"
   ]
  },
  {
   "cell_type": "code",
   "execution_count": null,
   "metadata": {},
   "outputs": [],
   "source": [
    "doc = nlp(\"Essa semana dia 02/11/2023 tem feriado\")\n",
    "for t in doc:\n",
    "    print(t.text, t.shape_, t.is_alpha, t.like_num) #  o formato e se é alpha numeric"
   ]
  },
  {
   "cell_type": "markdown",
   "metadata": {},
   "source": [
    "Atributos lexicos"
   ]
  },
  {
   "cell_type": "code",
   "execution_count": null,
   "metadata": {},
   "outputs": [],
   "source": [
    "doc = nlp(\"Hoje fui ao mercado. Comprei 5 pães\")\n",
    "\n",
    "for t in doc:\n",
    "    print(t.text, t.pos_, t.lemma_, t.dep_, t.is_stop) \n",
    "\n",
    "from spacy import displacy\n",
    "\n",
    "displacy.serve(doc) # visualização"
   ]
  },
  {
   "cell_type": "markdown",
   "metadata": {},
   "source": [
    "Removendo Stop Words"
   ]
  },
  {
   "cell_type": "code",
   "execution_count": null,
   "metadata": {},
   "outputs": [],
   "source": [
    "stop_words = []\n",
    "for words in nlp.Defaults.stop_words:\n",
    "    stop_words.append(words)\n",
    "\n",
    "lista_tokens = []\n",
    "for tokendoc in doc:\n",
    "    lista_tokens.append(tokendoc.text)\n",
    "\n",
    "removendo = [word for word in lista_tokens if not word in stop_words]\n",
    "\n",
    "print(doc.text)\n",
    "print(removendo)"
   ]
  },
  {
   "cell_type": "markdown",
   "metadata": {},
   "source": [
    "Reconhecimento de entidades"
   ]
  },
  {
   "cell_type": "code",
   "execution_count": null,
   "metadata": {},
   "outputs": [],
   "source": [
    "texto = '''\n",
    "Gabriel, Marina e Odon estudam estatística na Universidade Federal de Uberlândia.\n",
    "Marina namora com Thiago. \n",
    "A irmã de Odon se chama Gabriela.\n",
    "Yuri vem de Campina Verde.\n",
    "Todos fazem pesquisas no Google.\n",
    "'''\n",
    "\n",
    "doc = nlp(texto)\n",
    "\n",
    "print(doc.ents)\n",
    "\n",
    "for ent in doc.ents:\n",
    "    print(ent.text,ent.label_)\n",
    "\n",
    "# visualização com displacy\n",
    "displacy.serve(doc,style=\"ent\")\n"
   ]
  }
 ],
 "metadata": {
  "kernelspec": {
   "display_name": "Python 3",
   "language": "python",
   "name": "python3"
  },
  "language_info": {
   "codemirror_mode": {
    "name": "ipython",
    "version": 3
   },
   "file_extension": ".py",
   "mimetype": "text/x-python",
   "name": "python",
   "nbconvert_exporter": "python",
   "pygments_lexer": "ipython3",
   "version": "3.10.9"
  }
 },
 "nbformat": 4,
 "nbformat_minor": 2
}
